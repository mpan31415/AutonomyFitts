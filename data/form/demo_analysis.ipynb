{
 "cells": [
  {
   "cell_type": "code",
   "execution_count": 23,
   "metadata": {},
   "outputs": [],
   "source": [
    "from pandas import read_csv\n",
    "from os import getcwd\n",
    "from numpy import average, var, std\n",
    "\n",
    "NUM_PARTICIPANTS = 8"
   ]
  },
  {
   "cell_type": "code",
   "execution_count": 24,
   "metadata": {},
   "outputs": [
    {
     "name": "stdout",
     "output_type": "stream",
     "text": [
      "\n",
      " Finished reading raw demo form csv file! \n",
      "\n"
     ]
    },
    {
     "data": {
      "text/html": [
       "<div>\n",
       "<style scoped>\n",
       "    .dataframe tbody tr th:only-of-type {\n",
       "        vertical-align: middle;\n",
       "    }\n",
       "\n",
       "    .dataframe tbody tr th {\n",
       "        vertical-align: top;\n",
       "    }\n",
       "\n",
       "    .dataframe thead th {\n",
       "        text-align: right;\n",
       "    }\n",
       "</style>\n",
       "<table border=\"1\" class=\"dataframe\">\n",
       "  <thead>\n",
       "    <tr style=\"text-align: right;\">\n",
       "      <th></th>\n",
       "      <th>Q1</th>\n",
       "      <th>Q2</th>\n",
       "      <th>Q2_3_TEXT</th>\n",
       "      <th>Q3</th>\n",
       "      <th>Q4</th>\n",
       "      <th>Q5_1</th>\n",
       "      <th>Q5_2</th>\n",
       "      <th>Q5_3</th>\n",
       "    </tr>\n",
       "  </thead>\n",
       "  <tbody>\n",
       "    <tr>\n",
       "      <th>0</th>\n",
       "      <td>1</td>\n",
       "      <td>1</td>\n",
       "      <td>NaN</td>\n",
       "      <td>24</td>\n",
       "      <td>1</td>\n",
       "      <td>5</td>\n",
       "      <td>2</td>\n",
       "      <td>3</td>\n",
       "    </tr>\n",
       "    <tr>\n",
       "      <th>1</th>\n",
       "      <td>2</td>\n",
       "      <td>2</td>\n",
       "      <td>NaN</td>\n",
       "      <td>21</td>\n",
       "      <td>1</td>\n",
       "      <td>4</td>\n",
       "      <td>7</td>\n",
       "      <td>1</td>\n",
       "    </tr>\n",
       "    <tr>\n",
       "      <th>2</th>\n",
       "      <td>3</td>\n",
       "      <td>1</td>\n",
       "      <td>NaN</td>\n",
       "      <td>24</td>\n",
       "      <td>1</td>\n",
       "      <td>5</td>\n",
       "      <td>5</td>\n",
       "      <td>1</td>\n",
       "    </tr>\n",
       "    <tr>\n",
       "      <th>3</th>\n",
       "      <td>4</td>\n",
       "      <td>2</td>\n",
       "      <td>NaN</td>\n",
       "      <td>27</td>\n",
       "      <td>1</td>\n",
       "      <td>6</td>\n",
       "      <td>6</td>\n",
       "      <td>2</td>\n",
       "    </tr>\n",
       "    <tr>\n",
       "      <th>4</th>\n",
       "      <td>5</td>\n",
       "      <td>2</td>\n",
       "      <td>NaN</td>\n",
       "      <td>20</td>\n",
       "      <td>1</td>\n",
       "      <td>5</td>\n",
       "      <td>7</td>\n",
       "      <td>3</td>\n",
       "    </tr>\n",
       "    <tr>\n",
       "      <th>5</th>\n",
       "      <td>6</td>\n",
       "      <td>2</td>\n",
       "      <td>NaN</td>\n",
       "      <td>21</td>\n",
       "      <td>1</td>\n",
       "      <td>7</td>\n",
       "      <td>3</td>\n",
       "      <td>6</td>\n",
       "    </tr>\n",
       "    <tr>\n",
       "      <th>6</th>\n",
       "      <td>7</td>\n",
       "      <td>2</td>\n",
       "      <td>NaN</td>\n",
       "      <td>25</td>\n",
       "      <td>1</td>\n",
       "      <td>4</td>\n",
       "      <td>5</td>\n",
       "      <td>1</td>\n",
       "    </tr>\n",
       "    <tr>\n",
       "      <th>7</th>\n",
       "      <td>8</td>\n",
       "      <td>1</td>\n",
       "      <td>NaN</td>\n",
       "      <td>19</td>\n",
       "      <td>1</td>\n",
       "      <td>3</td>\n",
       "      <td>1</td>\n",
       "      <td>6</td>\n",
       "    </tr>\n",
       "  </tbody>\n",
       "</table>\n",
       "</div>"
      ],
      "text/plain": [
       "  Q1 Q2 Q2_3_TEXT  Q3 Q4 Q5_1 Q5_2 Q5_3\n",
       "0  1  1       NaN  24  1    5    2    3\n",
       "1  2  2       NaN  21  1    4    7    1\n",
       "2  3  1       NaN  24  1    5    5    1\n",
       "3  4  2       NaN  27  1    6    6    2\n",
       "4  5  2       NaN  20  1    5    7    3\n",
       "5  6  2       NaN  21  1    7    3    6\n",
       "6  7  2       NaN  25  1    4    5    1\n",
       "7  8  1       NaN  19  1    3    1    6"
      ]
     },
     "execution_count": 24,
     "metadata": {},
     "output_type": "execute_result"
    }
   ],
   "source": [
    "##########################################################################################\n",
    "def get_demo_data():\n",
    "    \n",
    "    demo_form_dir = getcwd() + \"\\demo_form_raw.csv\"\n",
    "    demo_df = read_csv(demo_form_dir)\n",
    "    num_cols = demo_df.shape[1]\n",
    "    demo_df = demo_df.iloc[2:, 17:num_cols].reset_index(drop=True)\n",
    "    \n",
    "    print(\"\\n Finished reading raw demo form csv file! \\n\")\n",
    "    \n",
    "    return demo_df\n",
    "\n",
    "##############################\n",
    "demo_df = get_demo_data()\n",
    "demo_df"
   ]
  },
  {
   "cell_type": "code",
   "execution_count": 25,
   "metadata": {},
   "outputs": [
    {
     "name": "stdout",
     "output_type": "stream",
     "text": [
      "Female = 3 (37.5%), Male = 5 (62.5%), Total = 8 participants\n"
     ]
    }
   ],
   "source": [
    "# gender\n",
    "gender_list = demo_df['Q2'].apply(lambda x: int(x)).tolist()\n",
    "female_count = gender_list.count(1)\n",
    "male_count = gender_list.count(2)\n",
    "female_per = female_count / NUM_PARTICIPANTS * 100\n",
    "male_per = male_count / NUM_PARTICIPANTS * 100\n",
    "print(\"Female = %d (%.1f%%), Male = %d (%.1f%%), Total = %d participants\" % (female_count, female_per, male_count, male_per, NUM_PARTICIPANTS))"
   ]
  },
  {
   "cell_type": "code",
   "execution_count": 27,
   "metadata": {},
   "outputs": [
    {
     "name": "stdout",
     "output_type": "stream",
     "text": [
      "Average age = 22.6, Stdev = 2.6\n"
     ]
    }
   ],
   "source": [
    "# age\n",
    "age_list = demo_df['Q3'].apply(lambda x: int(x)).tolist()\n",
    "age_mean = average(age_list)\n",
    "age_var = var(age_list)\n",
    "age_std = std(age_list)\n",
    "print(\"Average age = %.1f, Stdev = %.1f\" % (age_mean, age_std))"
   ]
  },
  {
   "cell_type": "code",
   "execution_count": 29,
   "metadata": {},
   "outputs": [
    {
     "name": "stdout",
     "output_type": "stream",
     "text": [
      "Right-handed = 8, Left-handed = 0, Either = 0\n"
     ]
    }
   ],
   "source": [
    "# handed-ness\n",
    "handed_list = demo_df['Q4'].apply(lambda x: int(x)).tolist()\n",
    "right_handed_count = handed_list.count(1)\n",
    "left_handed_count = handed_list.count(2)\n",
    "both_count = handed_list.count(3)\n",
    "print(\"Right-handed = %d, Left-handed = %d, Either = %d\" % (right_handed_count, left_handed_count, both_count))"
   ]
  }
 ],
 "metadata": {
  "kernelspec": {
   "display_name": "Python 3",
   "language": "python",
   "name": "python3"
  },
  "language_info": {
   "codemirror_mode": {
    "name": "ipython",
    "version": 3
   },
   "file_extension": ".py",
   "mimetype": "text/x-python",
   "name": "python",
   "nbconvert_exporter": "python",
   "pygments_lexer": "ipython3",
   "version": "3.10.11"
  }
 },
 "nbformat": 4,
 "nbformat_minor": 2
}
