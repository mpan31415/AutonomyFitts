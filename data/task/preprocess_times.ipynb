{
 "cells": [
  {
   "cell_type": "code",
   "execution_count": 53,
   "metadata": {},
   "outputs": [],
   "source": [
    "from pandas import read_csv, DataFrame\n",
    "from os import getcwd\n",
    "from ast import literal_eval\n",
    "\n",
    "NUM_PARTICIPANTS = 1\n",
    "\n",
    "FITTS_ID_LIST = [2.788, 3.68, 3.68, 4.623]"
   ]
  },
  {
   "cell_type": "code",
   "execution_count": 54,
   "metadata": {},
   "outputs": [],
   "source": [
    "##########################################################################################\n",
    "def get_raw_data(part_id):\n",
    "    \n",
    "    my_file_dir = getcwd() + \"\\headers\\\\part\" + str(part_id) + \"_header.csv\"\n",
    "    raw_df = read_csv(my_file_dir)\n",
    "    print(\"\\n Finished reading raw csv file! \\n\")\n",
    "    \n",
    "    return raw_df\n",
    "\n",
    "\n",
    "##########################################################################################\n",
    "def get_auto_level(auto_num):\n",
    "    match auto_num:\n",
    "        case 0.0:\n",
    "            return \"low\"\n",
    "        case 0.4:\n",
    "            return \"med\"\n",
    "        case 0.8:\n",
    "            return \"high\"\n",
    "        case _:\n",
    "            return \"none\"\n",
    "        \n",
    "        \n",
    "##########################################################################################\n",
    "def duplicate_list(lst, times):\n",
    "    ret_lst = []\n",
    "    for n in lst:\n",
    "        for i in range(times):\n",
    "            ret_lst.append(n)\n",
    "    return ret_lst\n",
    "\n",
    "\n",
    "##########################################################################################\n",
    "def preprocess_times(skip_first):\n",
    "    \n",
    "    for part_id in range(1, NUM_PARTICIPANTS+1):\n",
    "        \n",
    "        raw = get_raw_data(part_id)\n",
    "        \n",
    "        # get first 3 columns as lists: part_id, alpha_id, ring_id\n",
    "        part_id_list = [part_id for i in range(12)]\n",
    "        auto_num_list = raw['alpha_id'].apply(lambda x: round(float(1.0-float(x)/5.0), 1)).tolist()\n",
    "        auto_level_list = list(map(lambda x: get_auto_level(x), auto_num_list))\n",
    "        ring_id_list = raw['ring_id'].apply(lambda x: int(x)).tolist()\n",
    "        fitts_id_list = [FITTS_ID_LIST[x-1] for x in ring_id_list]\n",
    "        \n",
    "        # get movement times list of lists\n",
    "        mt_list_of_lists = raw['mt_list'].tolist()\n",
    "        converted_lists = []\n",
    "        for mt_list in mt_list_of_lists:\n",
    "            mt_list = literal_eval(mt_list)\n",
    "            converted_lists.append(mt_list)\n",
    "        long_mt_list = []\n",
    "        for lst in converted_lists:\n",
    "            if skip_first:\n",
    "                del lst[0]\n",
    "            for mt in lst:\n",
    "                long_mt_list.append(mt)\n",
    "        \n",
    "        # duplicate previous lists by 8 (8 repeated measures for each condition)\n",
    "        num_measures = 8\n",
    "        if skip_first:\n",
    "            num_measures = 7\n",
    "        part_id_list = duplicate_list(part_id_list, num_measures)\n",
    "        auto_num_list = duplicate_list(auto_num_list, num_measures)\n",
    "        auto_level_list = duplicate_list(auto_level_list, num_measures)\n",
    "        ring_id_list = duplicate_list(ring_id_list, num_measures)\n",
    "        fitts_id_list = duplicate_list(fitts_id_list, num_measures)\n",
    "        \n",
    "        ######################### GENERATE NEW DATAFRAME #########################\n",
    "        # generate new dataframe\n",
    "        df_dict = {\n",
    "            'pid': part_id_list,\n",
    "            'auto_num': auto_num_list,\n",
    "            'auto_level': auto_level_list,\n",
    "            'ring_id': ring_id_list,\n",
    "            'fitts_id': fitts_id_list,\n",
    "            'move_time': long_mt_list\n",
    "        }\n",
    "        processed_df = DataFrame(df_dict)\n",
    "        \n",
    "        # write processed dataframe to csv file\n",
    "        dest_path = getcwd() + \"\\move_times\\\\part\" + str(part_id) + \"_move_times.csv\"\n",
    "        processed_df.to_csv(dest_path, index=False)\n",
    "        print(\" Successfully written pre-processed data to csv file! \\n\")\n",
    "        \n",
    "        "
   ]
  },
  {
   "cell_type": "code",
   "execution_count": 55,
   "metadata": {},
   "outputs": [
    {
     "name": "stdout",
     "output_type": "stream",
     "text": [
      "\n",
      " Finished reading raw csv file! \n",
      "\n",
      " Successfully written pre-processed data to csv file! \n",
      "\n"
     ]
    }
   ],
   "source": [
    "preprocess_times(skip_first=True)"
   ]
  }
 ],
 "metadata": {
  "kernelspec": {
   "display_name": "Python 3",
   "language": "python",
   "name": "python3"
  },
  "language_info": {
   "codemirror_mode": {
    "name": "ipython",
    "version": 3
   },
   "file_extension": ".py",
   "mimetype": "text/x-python",
   "name": "python",
   "nbconvert_exporter": "python",
   "pygments_lexer": "ipython3",
   "version": "3.10.11"
  }
 },
 "nbformat": 4,
 "nbformat_minor": 2
}
