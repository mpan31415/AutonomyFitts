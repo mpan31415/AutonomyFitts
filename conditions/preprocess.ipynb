{
 "cells": [
  {
   "cell_type": "code",
   "execution_count": 8,
   "metadata": {},
   "outputs": [],
   "source": [
    "from pandas import read_csv, DataFrame, read_excel\n",
    "from os import getcwd"
   ]
  },
  {
   "cell_type": "code",
   "execution_count": 9,
   "metadata": {},
   "outputs": [],
   "source": [
    "##########################################################################################\n",
    "def get_raw_data():\n",
    "    \n",
    "    my_file_dir = getcwd() + \"\\StudyDesign.xlsx\"\n",
    "    # my_file_dir = 'c:\\\\Users\\\\micha\\\\OneDrive\\\\My_GitHub_Repos\\\\robot-x-ar\\\\data\\\\questionnaire\\\\main_form.csv'\n",
    "    # big_df = read_csv(my_file_dir)\n",
    "    big_df = read_excel(my_file_dir)\n",
    "    num_cols = big_df.shape[1]\n",
    "    df = big_df.iloc[:, 17:num_cols]\n",
    "    df = df.fillna(1)\n",
    "    # df.drop(1, axis=\"index\", inplace=True)\n",
    "    # df.reset_index(drop=True, inplace=True)\n",
    "    \n",
    "    print(\"\\n Finished reading raw csv file! \\n\")\n",
    "    \n",
    "    return df\n",
    "\n",
    "\n",
    "##########################################################################################\n",
    "def generate_conditions():\n",
    "    \n",
    "    # get overall dataframe\n",
    "    raw = get_raw_data()\n",
    "    \n",
    "    \n",
    "        \n",
    "    \n",
    "    ###### write to new (cleaned) dataframe ######\n",
    "    \n",
    "    # generate new dataframe\n",
    "    # df_dict = {\n",
    "    #     'pid': part_id_list,\n",
    "    #     'condition': cond_id_list,\n",
    "    #     'difficulty': difficulty_list,\n",
    "    #     'tlx_mental': tlx1_list,\n",
    "    #     'tlx_physical': tlx2_list,\n",
    "    #     'tlx_hurried': tlx3_list,\n",
    "    #     'tlx_successful': tlx4_list,\n",
    "    #     'tlx_hard': tlx5_list,\n",
    "    #     'tlx_insecure': tlx6_list,\n",
    "    #     'tlx_ave': tlx_ave_list,\n",
    "    #     'emb_1': emb1_list,\n",
    "    #     'emb_2': emb2_list,\n",
    "    #     'emb_3': emb3_list,\n",
    "    #     'emb_4': emb4_list,\n",
    "    #     'emb_5': emb5_list,\n",
    "    #     'emb_6': emb6_list,\n",
    "    #     'emb_ave': emb_ave_list,\n",
    "    #     'owner_ave': owner_ave_list,\n",
    "    #     'agency_ave': agency_ave_list\n",
    "    # }\n",
    "    # cleaned_df = DataFrame(df_dict)\n",
    "    \n",
    "    # # write new dataframe to csv file\n",
    "    # # dest_path = getcwd() + \"\\data\\questionnaire\" + '\\main_form_cleaned.csv'\n",
    "    # dest_path = 'c:\\\\Users\\\\micha\\\\OneDrive\\\\My_GitHub_Repos\\\\robot-x-ar\\\\data\\\\questionnaire\\\\main_form_cleaned.csv'\n",
    "    # cleaned_df.to_csv(dest_path, index=False)\n",
    "    \n",
    "    # print(\" Successfully written pre-processed data to csv file! \\n\")"
   ]
  },
  {
   "cell_type": "code",
   "execution_count": 11,
   "metadata": {},
   "outputs": [
    {
     "name": "stdout",
     "output_type": "stream",
     "text": [
      "\n",
      " Finished reading raw csv file! \n",
      "\n"
     ]
    }
   ],
   "source": [
    "generate_conditions()"
   ]
  }
 ],
 "metadata": {
  "kernelspec": {
   "display_name": "Python 3",
   "language": "python",
   "name": "python3"
  },
  "language_info": {
   "codemirror_mode": {
    "name": "ipython",
    "version": 3
   },
   "file_extension": ".py",
   "mimetype": "text/x-python",
   "name": "python",
   "nbconvert_exporter": "python",
   "pygments_lexer": "ipython3",
   "version": "3.10.11"
  }
 },
 "nbformat": 4,
 "nbformat_minor": 2
}
