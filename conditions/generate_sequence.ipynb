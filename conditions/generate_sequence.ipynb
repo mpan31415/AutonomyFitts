{
 "cells": [
  {
   "cell_type": "code",
   "execution_count": 20,
   "metadata": {},
   "outputs": [],
   "source": [
    "from pandas import read_csv, DataFrame\n",
    "from os import getcwd\n",
    "\n",
    "### each tuple = (alpha_id, ring_id)\n",
    "CONDITIONS_DICT = {\n",
    "    'A': (5, 1),\n",
    "    'B': (5, 2),\n",
    "    'C': (5, 3),\n",
    "    'D': (5, 4),\n",
    "    'E': (3, 1),\n",
    "    'F': (3, 2),\n",
    "    'G': (3, 3),\n",
    "    'H': (3, 4),\n",
    "    'I': (1, 1),\n",
    "    'J': (1, 2),\n",
    "    'K': (1, 3),\n",
    "    'L': (1, 4),\n",
    "}"
   ]
  },
  {
   "cell_type": "markdown",
   "metadata": {},
   "source": [
    "Read CSV file & Generate new ordering file"
   ]
  },
  {
   "cell_type": "code",
   "execution_count": 24,
   "metadata": {},
   "outputs": [
    {
     "name": "stdout",
     "output_type": "stream",
     "text": [
      "Data written to 'ordering.csv'\n"
     ]
    }
   ],
   "source": [
    "file_path = getcwd() + '\\latin_square.csv'\n",
    "latin_df = read_csv(file_path, header=None)\n",
    "\n",
    "csv_header_names = []\n",
    "for i in range(12):\n",
    "    csv_header_names.append('trial'+str(i+1))\n",
    "\n",
    "rows_list = []\n",
    "\n",
    "for index, row in latin_df.iterrows():\n",
    "    part_id = index + 1\n",
    "    cond_list = row.tolist()\n",
    "    # print(\"Participant %d: conditions = %s\" % (part_id, cond_list))\n",
    "    \n",
    "    alpha_list = []\n",
    "    ring_list = []\n",
    "    \n",
    "    for cond_index in range(len(cond_list)):\n",
    "        trial_info = CONDITIONS_DICT[cond_list[cond_index]]\n",
    "        alpha_id = trial_info[0]\n",
    "        ring_id = trial_info[1]\n",
    "        alpha_list.append(alpha_id)\n",
    "        ring_list.append(ring_id)\n",
    "        \n",
    "        # print(\"alpha_id = %d, ring_id = %d\" % (alpha_id, ring_id))\n",
    "    rows_list.append(alpha_list)\n",
    "    rows_list.append(ring_list)\n",
    "        \n",
    "        \n",
    "### generate new ordering csv file\n",
    "new_df = DataFrame(rows_list, columns=csv_header_names)\n",
    "\n",
    "new_df.to_csv('ordering.csv', index=False)\n",
    "print(\"Data written to 'ordering.csv'\")"
   ]
  }
 ],
 "metadata": {
  "kernelspec": {
   "display_name": "Python 3",
   "language": "python",
   "name": "python3"
  },
  "language_info": {
   "codemirror_mode": {
    "name": "ipython",
    "version": 3
   },
   "file_extension": ".py",
   "mimetype": "text/x-python",
   "name": "python",
   "nbconvert_exporter": "python",
   "pygments_lexer": "ipython3",
   "version": "3.10.11"
  }
 },
 "nbformat": 4,
 "nbformat_minor": 2
}
